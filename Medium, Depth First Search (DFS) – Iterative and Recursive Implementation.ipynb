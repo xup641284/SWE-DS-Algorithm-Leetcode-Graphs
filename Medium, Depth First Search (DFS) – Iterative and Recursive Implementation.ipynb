{
 "cells": [
  {
   "cell_type": "markdown",
   "metadata": {},
   "source": [
    "# Iterative,  O(V + E)"
   ]
  },
  {
   "cell_type": "code",
   "execution_count": 1,
   "metadata": {},
   "outputs": [
    {
     "name": "stdout",
     "output_type": "stream",
     "text": [
      "0 1 2 3 4 5 6 7 8 9 10 11 12 "
     ]
    }
   ],
   "source": [
    "from collections import deque\n",
    " \n",
    "# A class to represent a graph object\n",
    "class Graph:\n",
    "    # Constructor\n",
    "    def __init__(self, edges, n):\n",
    " \n",
    "        # A list of lists to represent an adjacency list\n",
    "        self.adjList = [[] for _ in range(n)]\n",
    " \n",
    "        # add edges to the undirected graph\n",
    "        for (src, dest) in edges:\n",
    "            self.adjList[src].append(dest)\n",
    "            self.adjList[dest].append(src)\n",
    " \n",
    " \n",
    "# Perform iterative DFS on graph starting from vertex `v`\n",
    "def iterativeDFS(graph, v, discovered):\n",
    " \n",
    "    # create a stack used to do iterative DFS\n",
    "    stack = deque()\n",
    " \n",
    "    # push the source node into the stack\n",
    "    stack.append(v)\n",
    " \n",
    "    # loop till stack is empty\n",
    "    while stack:\n",
    " \n",
    "        # Pop a vertex from the stack\n",
    "        v = stack.pop()\n",
    " \n",
    "        # if the vertex is already discovered yet, ignore it\n",
    "        if discovered[v]:\n",
    "            continue\n",
    " \n",
    "        # we will reach here if the popped vertex `v` is not discovered yet;\n",
    "        # print `v` and process its undiscovered adjacent nodes into the stack\n",
    "        discovered[v] = True\n",
    "        print(v, end=' ')\n",
    " \n",
    "        # do for every edge (v, u)\n",
    "        adjList = graph.adjList[v]\n",
    "        for i in reversed(range(len(adjList))):\n",
    "            u = adjList[i]\n",
    "            if not discovered[u]:\n",
    "                stack.append(u)\n",
    " \n",
    " \n",
    "if __name__ == '__main__':\n",
    " \n",
    "    # List of graph edges as per the above diagram\n",
    "    edges = [\n",
    "        # Notice that node 0 is unconnected\n",
    "        (1, 2), (1, 7), (1, 8), (2, 3), (2, 6), (3, 4),\n",
    "        (3, 5), (8, 9), (8, 12), (9, 10), (9, 11)\n",
    "        # (6, 9) introduces a cycle\n",
    "    ]\n",
    " \n",
    "    # total number of nodes in the graph (labelled from 0 to 12)\n",
    "    n = 13\n",
    " \n",
    "    # build a graph from the given edges\n",
    "    graph = Graph(edges, n)\n",
    " \n",
    "    # to keep track of whether a vertex is discovered or not\n",
    "    discovered = [False] * n\n",
    " \n",
    "    # Do iterative DFS traversal from all undiscovered nodes to\n",
    "    # cover all connected components of a graph\n",
    "    for i in range(n):\n",
    "        if not discovered[i]:\n",
    "            iterativeDFS(graph, i, discovered)"
   ]
  },
  {
   "cell_type": "markdown",
   "metadata": {},
   "source": [
    "# Recursive, O(V + E)"
   ]
  },
  {
   "cell_type": "code",
   "execution_count": 2,
   "metadata": {},
   "outputs": [
    {
     "name": "stdout",
     "output_type": "stream",
     "text": [
      "0 1 2 3 4 5 6 7 8 9 10 11 12 "
     ]
    }
   ],
   "source": [
    "# A class to represent a graph object\n",
    "class Graph:\n",
    "    # Constructor\n",
    "    def __init__(self, edges, n):\n",
    "        # A list of lists to represent an adjacency list\n",
    "        self.adjList = [[] for _ in range(n)]\n",
    " \n",
    "        # add edges to the undirected graph\n",
    "        for (src, dest) in edges:\n",
    "            self.adjList[src].append(dest)\n",
    "            self.adjList[dest].append(src)\n",
    " \n",
    " \n",
    "# Function to perform DFS traversal on the graph on a graph\n",
    "def DFS(graph, v, discovered):\n",
    " \n",
    "    discovered[v] = True            # mark the current node as discovered\n",
    "    print(v, end=' ')               # print the current node\n",
    " \n",
    "    # do for every edge (v, u)\n",
    "    for u in graph.adjList[v]:\n",
    "        if not discovered[u]:       # if `u` is not yet discovered\n",
    "            DFS(graph, u, discovered)\n",
    " \n",
    " \n",
    "if __name__ == '__main__':\n",
    " \n",
    "    # List of graph edges as per the above diagram\n",
    "    edges = [\n",
    "        # Notice that node 0 is unconnected\n",
    "        (1, 2), (1, 7), (1, 8), (2, 3), (2, 6), (3, 4),\n",
    "        (3, 5), (8, 9), (8, 12), (9, 10), (9, 11)\n",
    "    ]\n",
    " \n",
    "    # total number of nodes in the graph (labelled from 0 to 12)\n",
    "    n = 13\n",
    " \n",
    "    # build a graph from the given edges\n",
    "    graph = Graph(edges, n)\n",
    " \n",
    "    # to keep track of whether a vertex is discovered or not\n",
    "    discovered = [False] * n\n",
    " \n",
    "    # Perform DFS traversal from all undiscovered nodes to\n",
    "    # cover all connected components of a graph\n",
    "    for i in range(n):\n",
    "        if not discovered[i]:\n",
    "            DFS(graph, i, discovered)"
   ]
  },
  {
   "cell_type": "code",
   "execution_count": null,
   "metadata": {},
   "outputs": [],
   "source": []
  }
 ],
 "metadata": {
  "kernelspec": {
   "display_name": "Python 3",
   "language": "python",
   "name": "python3"
  },
  "language_info": {
   "codemirror_mode": {
    "name": "ipython",
    "version": 3
   },
   "file_extension": ".py",
   "mimetype": "text/x-python",
   "name": "python",
   "nbconvert_exporter": "python",
   "pygments_lexer": "ipython3",
   "version": "3.7.1"
  }
 },
 "nbformat": 4,
 "nbformat_minor": 2
}
