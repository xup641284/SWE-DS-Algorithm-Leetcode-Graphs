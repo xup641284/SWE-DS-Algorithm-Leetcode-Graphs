{
 "cells": [
  {
   "cell_type": "markdown",
   "metadata": {},
   "source": [
    "# Iterative, O(V + E)"
   ]
  },
  {
   "cell_type": "code",
   "execution_count": 1,
   "metadata": {},
   "outputs": [
    {
     "name": "stdout",
     "output_type": "stream",
     "text": [
      "0 1 2 3 4 5 6 7 8 9 10 11 12 13 14 "
     ]
    }
   ],
   "source": [
    "from collections import deque\n",
    " \n",
    "# A class to represent a graph object\n",
    "class Graph:\n",
    "    # Constructor\n",
    "    def __init__(self, edges, n):\n",
    " \n",
    "        # A list of lists to represent an adjacency list\n",
    "        self.adjList = [[] for _ in range(n)]\n",
    " \n",
    "        # add edges to the undirected graph\n",
    "        for (src, dest) in edges:\n",
    "            self.adjList[src].append(dest)\n",
    "            self.adjList[dest].append(src)\n",
    " \n",
    " \n",
    "# Perform BFS on the graph starting from vertex `v`\n",
    "def BFS(graph, v, discovered):\n",
    " \n",
    "    # create a queue for doing BFS\n",
    "    q = deque()\n",
    " \n",
    "    # mark the source vertex as discovered\n",
    "    discovered[v] = True\n",
    " \n",
    "    # enqueue source vertex\n",
    "    q.append(v)\n",
    " \n",
    "    # loop till queue is empty\n",
    "    while q:\n",
    " \n",
    "        # dequeue front node and print it\n",
    "        v = q.popleft()\n",
    "        print(v, end=' ')\n",
    " \n",
    "        # do for every edge (v, u)\n",
    "        for u in graph.adjList[v]:\n",
    "            if not discovered[u]:\n",
    "                # mark it as discovered and enqueue it\n",
    "                discovered[u] = True\n",
    "                q.append(u)\n",
    " \n",
    " \n",
    "if __name__ == '__main__':\n",
    " \n",
    "    # List of graph edges as per the above diagram\n",
    "    edges = [\n",
    "        (1, 2), (1, 3), (1, 4), (2, 5), (2, 6), (5, 9),\n",
    "        (5, 10), (4, 7), (4, 8), (7, 11), (7, 12)\n",
    "        # vertex 0, 13, and 14 are single nodes\n",
    "    ]\n",
    " \n",
    "    # total number of nodes in the graph (labelled from 0 to 14)\n",
    "    n = 15\n",
    " \n",
    "    # build a graph from the given edges\n",
    "    graph = Graph(edges, n)\n",
    " \n",
    "    # to keep track of whether a vertex is discovered or not\n",
    "    discovered = [False] * n\n",
    " \n",
    "    # Perform BFS traversal from all undiscovered nodes to\n",
    "    # cover all connected components of a graph\n",
    "    for i in range(n):\n",
    "        if not discovered[i]:\n",
    "            # start BFS traversal from vertex i\n",
    "            BFS(graph, i, discovered)"
   ]
  },
  {
   "cell_type": "markdown",
   "metadata": {},
   "source": [
    "# Recursive, O(V + E)"
   ]
  },
  {
   "cell_type": "code",
   "execution_count": 2,
   "metadata": {},
   "outputs": [
    {
     "name": "stdout",
     "output_type": "stream",
     "text": [
      "0 1 2 3 4 5 6 7 8 9 10 11 12 13 14 "
     ]
    }
   ],
   "source": [
    "\n",
    "from collections import deque\n",
    " \n",
    "# A class to represent a graph object\n",
    "class Graph:\n",
    "    # Constructor\n",
    "    def __init__(self, edges, n):\n",
    " \n",
    "        # A list of lists to represent an adjacency list\n",
    "        self.adjList = [[] for _ in range(n)]\n",
    " \n",
    "        # add edges to the undirected graph\n",
    "        for (src, dest) in edges:\n",
    "            self.adjList[src].append(dest)\n",
    "            self.adjList[dest].append(src)\n",
    " \n",
    " \n",
    "# Perform BFS recursively on the graph\n",
    "def recursiveBFS(graph, q, discovered):\n",
    " \n",
    "    if not q:\n",
    "        return\n",
    " \n",
    "    # dequeue front node and print it\n",
    "    v = q.popleft()\n",
    "    print(v, end=' ')\n",
    " \n",
    "    # do for every edge (v, u)\n",
    "    for u in graph.adjList[v]:\n",
    "        if not discovered[u]:\n",
    "            # mark it as discovered and enqueue it\n",
    "            discovered[u] = True\n",
    "            q.append(u)\n",
    " \n",
    "    recursiveBFS(graph, q, discovered)\n",
    " \n",
    " \n",
    "if __name__ == '__main__':\n",
    " \n",
    "    # List of graph edges as per the above diagram\n",
    "    edges = [\n",
    "        (1, 2), (1, 3), (1, 4), (2, 5), (2, 6), (5, 9),\n",
    "        (5, 10), (4, 7), (4, 8), (7, 11), (7, 12)\n",
    "        # vertex 0, 13, and 14 are single nodes\n",
    "    ]\n",
    " \n",
    "    # total number of nodes in the graph (labelled from 0 to 14)\n",
    "    n = 15\n",
    " \n",
    "    # build a graph from the given edges\n",
    "    graph = Graph(edges, n)\n",
    " \n",
    "    # to keep track of whether a vertex is discovered or not\n",
    "    discovered = [False] * n\n",
    " \n",
    "    # create a queue for doing BFS\n",
    "    q = deque()\n",
    " \n",
    "    # Perform BFS traversal from all undiscovered nodes to\n",
    "    # cover all connected components of a graph\n",
    "    for i in range(n):\n",
    "        if not discovered[i]:\n",
    "            # mark the source vertex as discovered\n",
    "            discovered[i] = True\n",
    " \n",
    "            # enqueue source vertex\n",
    "            q.append(i)\n",
    " \n",
    "            # start BFS traversal from vertex i\n",
    "            recursiveBFS(graph, q, discovered)\n",
    " "
   ]
  },
  {
   "cell_type": "code",
   "execution_count": null,
   "metadata": {},
   "outputs": [],
   "source": []
  }
 ],
 "metadata": {
  "kernelspec": {
   "display_name": "Python 3",
   "language": "python",
   "name": "python3"
  },
  "language_info": {
   "codemirror_mode": {
    "name": "ipython",
    "version": 3
   },
   "file_extension": ".py",
   "mimetype": "text/x-python",
   "name": "python",
   "nbconvert_exporter": "python",
   "pygments_lexer": "ipython3",
   "version": "3.7.1"
  }
 },
 "nbformat": 4,
 "nbformat_minor": 2
}
