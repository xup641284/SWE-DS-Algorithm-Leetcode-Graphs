{
 "cells": [
  {
   "cell_type": "markdown",
   "metadata": {},
   "source": [
    "# DFS, O(V + E)"
   ]
  },
  {
   "cell_type": "code",
   "execution_count": 9,
   "metadata": {},
   "outputs": [
    {
     "name": "stdout",
     "output_type": "stream",
     "text": [
      "Vertex 0 (0, 11)\n",
      "Vertex 1 (1, 2)\n",
      "Vertex 2 (3, 10)\n",
      "Vertex 3 (4, 7)\n",
      "Vertex 4 (8, 9)\n",
      "Vertex 5 (5, 6)\n",
      "Vertex 6 (12, 15)\n",
      "Vertex 7 (13, 14)\n"
     ]
    }
   ],
   "source": [
    "# A class to represent a graph object\n",
    "class Graph:\n",
    "    def __init__(self, edges, n):\n",
    " \n",
    "        # A list of lists to represent an adjacency list\n",
    "        self.adjList = [[] for _ in range(n)]\n",
    " \n",
    "        # add edges to the directed graph\n",
    "        for (src, dest) in edges:\n",
    "            self.adjList[src].append(dest)\n",
    " \n",
    " \n",
    "# Function to perform DFS traversal on the graph on a graph\n",
    "def DFS(graph, v, discovered, arrival, departure, time):\n",
    " \n",
    "    time = time + 1\n",
    " \n",
    "    # set the arrival time of vertex `v`\n",
    "    arrival[v] = time\n",
    " \n",
    "    # mark vertex as discovered\n",
    "    discovered[v] = True\n",
    " \n",
    "    for i in graph.adjList[v]:\n",
    "        if not discovered[i]:\n",
    "            time = DFS(graph, i, discovered, arrival, departure, time)\n",
    " \n",
    "    time = time + 1\n",
    " \n",
    "    # set departure time of vertex `v`\n",
    "    departure[v] = time\n",
    " \n",
    "    return time\n",
    " \n",
    "if __name__ == '__main__':\n",
    " \n",
    "    # List of graph edges as per the above diagram\n",
    "    edges = [(0, 1), (0, 2), (2, 3), (2, 4), (3, 1), (3, 5), (4, 5), (6, 7)]\n",
    " \n",
    "    # total number of nodes in the graph (labelled from 0 to 7)\n",
    "    n = 8\n",
    " \n",
    "    # build a graph from the given edges\n",
    "    graph = Graph(edges, n)\n",
    "\n",
    "    # list to store the arrival time of vertex\n",
    "    arrival = [None] * n\n",
    " \n",
    "    # list to store the departure time of vertex\n",
    "    departure = [None] * n\n",
    " \n",
    "    # mark all the vertices as not discovered\n",
    "    discovered = [False] * n\n",
    "    time = -1\n",
    " \n",
    "    # Perform DFS traversal from all undiscovered nodes to\n",
    "    # cover all unconnected components of a graph\n",
    "    for i in range(n):\n",
    "        if not discovered[i]:\n",
    "            time = DFS(graph, i, discovered, arrival, departure, time)\n",
    " \n",
    "    # print arrival and departure time of each vertex in DFS\n",
    "    for i in range(n):\n",
    "        print(f'Vertex {i}', (arrival[i], departure[i]))\n",
    " "
   ]
  },
  {
   "cell_type": "code",
   "execution_count": null,
   "metadata": {},
   "outputs": [],
   "source": []
  }
 ],
 "metadata": {
  "kernelspec": {
   "display_name": "Python 3",
   "language": "python",
   "name": "python3"
  },
  "language_info": {
   "codemirror_mode": {
    "name": "ipython",
    "version": 3
   },
   "file_extension": ".py",
   "mimetype": "text/x-python",
   "name": "python",
   "nbconvert_exporter": "python",
   "pygments_lexer": "ipython3",
   "version": "3.7.1"
  }
 },
 "nbformat": 4,
 "nbformat_minor": 2
}
