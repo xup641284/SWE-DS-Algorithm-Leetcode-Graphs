{
 "cells": [
  {
   "cell_type": "markdown",
   "metadata": {},
   "source": [
    "# DFS"
   ]
  },
  {
   "cell_type": "code",
   "execution_count": 1,
   "metadata": {},
   "outputs": [
    {
     "name": "stdout",
     "output_type": "stream",
     "text": [
      "['JFK', 'MUC', 'LHR', 'SFO', 'SJC']\n"
     ]
    }
   ],
   "source": [
    "def find_itinerary(tickets):\n",
    "    # Build a graph using a dictionary to store lists of destinations for each departure airport.\n",
    "    graph = {}\n",
    "    for departure, arrival in tickets:\n",
    "        if departure not in graph:\n",
    "            graph[departure] = []\n",
    "        graph[departure].append(arrival)\n",
    "\n",
    "    # Sort the destinations in reverse lexicographical order to ensure smaller lexical order is taken first.\n",
    "    for departure in graph:\n",
    "        graph[departure].sort(reverse=True)\n",
    "\n",
    "    # Initialize the result list and start DFS from the \"JFK\" airport.\n",
    "    itinerary = []\n",
    "    stack = [\"JFK\"]\n",
    "\n",
    "    while stack:\n",
    "        while graph.get(stack[-1]):\n",
    "            stack.append(graph[stack[-1]].pop())\n",
    "        itinerary.append(stack.pop())\n",
    "\n",
    "    # The result is in reverse order, so we need to reverse it to get the correct itinerary.\n",
    "    return itinerary[::-1]\n",
    "\n",
    "# Example usage:\n",
    "tickets = [[\"MUC\", \"LHR\"], [\"JFK\", \"MUC\"], [\"SFO\", \"SJC\"], [\"LHR\", \"SFO\"]]\n",
    "print(find_itinerary(tickets))  # Output: [\"JFK\", \"MUC\", \"LHR\", \"SFO\", \"SJC\"]\n"
   ]
  },
  {
   "cell_type": "code",
   "execution_count": null,
   "metadata": {},
   "outputs": [],
   "source": []
  }
 ],
 "metadata": {
  "kernelspec": {
   "display_name": "Python 3",
   "language": "python",
   "name": "python3"
  },
  "language_info": {
   "codemirror_mode": {
    "name": "ipython",
    "version": 3
   },
   "file_extension": ".py",
   "mimetype": "text/x-python",
   "name": "python",
   "nbconvert_exporter": "python",
   "pygments_lexer": "ipython3",
   "version": "3.7.1"
  }
 },
 "nbformat": 4,
 "nbformat_minor": 2
}
